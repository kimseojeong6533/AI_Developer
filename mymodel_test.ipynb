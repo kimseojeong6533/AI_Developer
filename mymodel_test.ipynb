{
 "cells": [
  {
   "cell_type": "code",
   "execution_count": 32,
   "metadata": {},
   "outputs": [
    {
     "name": "stdout",
     "output_type": "stream",
     "text": [
      "63/1 [==================================================================================================================================================================================================================================================================================================================================================================================================================================================================================================================================================================================================================================================================================================================================================================================================================================================================================================================================================================================================================================================================================================================================================================================================================================================================================================================================================================================================================================================================================================================================================================================================================================================================================================================================================================================================================================================================================================================================================================] - 0s 2ms/sample - loss: 0.1643 - accuracy: 0.8571\n",
      "\n",
      " Test Accuracy: 0.8571\n"
     ]
    }
   ],
   "source": [
    "import tensorflow as tf\n",
    "from tensorflow.keras.models import Sequential, load_model\n",
    "from tensorflow.keras.layers import Dense\n",
    "from sklearn.preprocessing import LabelEncoder\n",
    "import pandas as pd\n",
    "import numpy as np\n",
    "\n",
    "\n",
    "model = load_model('C:\\\\Users\\\\user\\\\deeplearning\\\\run_project\\\\my_model.h5') \n",
    "model.summary\n",
    "\n",
    "# seed 값 설정\n",
    "seed = 0\n",
    "np.random.seed(seed)\n",
    "tf.random.set_seed(3)\n",
    "\n",
    "df = pd.read_csv('C:\\\\Users\\\\user\\\\deeplearning\\\\dataset\\\\sonar.csv', header=None)\n",
    "'''\n",
    "print(df.info())\n",
    "print(df.head())\n",
    "'''\n",
    "dataset = df.values\n",
    "X = dataset[:,0:60]\n",
    "Y_obj = dataset[:,60]\n",
    "\n",
    "e = LabelEncoder()\n",
    "e.fit(Y_obj)\n",
    "Y = e.transform(Y_obj)\n",
    "# 학습셋과 테스트셋을 나눔\n",
    "from sklearn.model_selection import train_test_split\n",
    "\n",
    "X_train, X_test, Y_train, Y_test = train_test_split(X, Y, test_size=0.3, random_state=seed)\n",
    "\n",
    "X_train_tf20= np.asarray(X_train).astype(np.float32)\n",
    "Y_train_tf20= np.asarray(Y_train).astype(np.float32)\n",
    "\n",
    "X_test_tf20= np.asarray(X_test).astype(np.float32)\n",
    "Y_test_tf20= np.asarray(Y_test).astype(np.float32)\n",
    "\n",
    "\n",
    "print(\"\\n Test Accuracy: %.4f\" % (model.evaluate(X_test_tf20, Y_test_tf20)[1]))  # 불러온 모델로 테스트 실행 \n"
   ]
  },
  {
   "cell_type": "code",
   "execution_count": null,
   "metadata": {},
   "outputs": [],
   "source": []
  }
 ],
 "metadata": {
  "kernelspec": {
   "display_name": "Tensorflow",
   "language": "python",
   "name": "tensorflow"
  },
  "language_info": {
   "codemirror_mode": {
    "name": "ipython",
    "version": 3
   },
   "file_extension": ".py",
   "mimetype": "text/x-python",
   "name": "python",
   "nbconvert_exporter": "python",
   "pygments_lexer": "ipython3",
   "version": "3.7.6"
  }
 },
 "nbformat": 4,
 "nbformat_minor": 4
}
